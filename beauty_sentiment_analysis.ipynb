{
 "cells": [
  {
   "cell_type": "markdown",
   "id": "4f3bd72b",
   "metadata": {},
   "source": [
    "# 💄 Beauty Product Review Sentiment Analysis\n",
    "\n",
    "This project uses natural language processing (NLP) to classify beauty product reviews as positive or negative using TF-IDF vectorization and Naive Bayes classification.\n"
   ]
  },
  {
   "cell_type": "code",
   "execution_count": null,
   "id": "25533820",
   "metadata": {},
   "outputs": [],
   "source": [
    "import pandas as pd\n",
    "import matplotlib.pyplot as plt\n",
    "import seaborn as sns\n",
    "from wordcloud import WordCloud\n",
    "from sklearn.model_selection import train_test_split\n",
    "from sklearn.feature_extraction.text import TfidfVectorizer\n",
    "from sklearn.naive_bayes import MultinomialNB\n",
    "from sklearn.metrics import confusion_matrix, classification_report\n",
    "%matplotlib inline"
   ]
  },
  {
   "cell_type": "code",
   "execution_count": null,
   "id": "6bb0b9e4",
   "metadata": {},
   "outputs": [],
   "source": [
    "df = pd.read_csv(\"beauty_reviews_sample.csv\")\n",
    "df.head()"
   ]
  },
  {
   "cell_type": "code",
   "execution_count": null,
   "id": "450ba660",
   "metadata": {},
   "outputs": [],
   "source": [
    "df['review_text'] = df['review_text'].str.lower()"
   ]
  },
  {
   "cell_type": "code",
   "execution_count": null,
   "id": "1973b36a",
   "metadata": {},
   "outputs": [],
   "source": [
    "X_train, X_test, y_train, y_test = train_test_split(\n",
    "    df['review_text'], df['label'], test_size=0.3, random_state=42)"
   ]
  },
  {
   "cell_type": "code",
   "execution_count": null,
   "id": "984a8344",
   "metadata": {},
   "outputs": [],
   "source": [
    "vectorizer = TfidfVectorizer(stop_words='english')\n",
    "X_train_vec = vectorizer.fit_transform(X_train)\n",
    "X_test_vec = vectorizer.transform(X_test)"
   ]
  },
  {
   "cell_type": "code",
   "execution_count": null,
   "id": "9d46790f",
   "metadata": {},
   "outputs": [],
   "source": [
    "model = MultinomialNB()\n",
    "model.fit(X_train_vec, y_train)"
   ]
  },
  {
   "cell_type": "code",
   "execution_count": null,
   "id": "3de84da0",
   "metadata": {},
   "outputs": [],
   "source": [
    "y_pred = model.predict(X_test_vec)\n",
    "print(classification_report(y_test, y_pred))"
   ]
  },
  {
   "cell_type": "code",
   "execution_count": null,
   "id": "cdad6cca",
   "metadata": {},
   "outputs": [],
   "source": [
    "conf_matrix = confusion_matrix(y_test, y_pred)\n",
    "sns.heatmap(conf_matrix, annot=True, fmt='d', cmap='Oranges',\n",
    "            xticklabels=[\"Negative\", \"Positive\"],\n",
    "            yticklabels=[\"Negative\", \"Positive\"])\n",
    "plt.xlabel(\"Predicted\")\n",
    "plt.ylabel(\"Actual\")\n",
    "plt.title(\"Confusion Matrix\")\n",
    "plt.show()"
   ]
  },
  {
   "cell_type": "code",
   "execution_count": null,
   "id": "5c9df37b",
   "metadata": {},
   "outputs": [],
   "source": [
    "pos_reviews = \" \".join(df[df['label'] == 1]['review_text'])\n",
    "neg_reviews = \" \".join(df[df['label'] == 0]['review_text'])\n",
    "\n",
    "wordcloud_pos = WordCloud(width=800, height=400, background_color='white').generate(pos_reviews)\n",
    "wordcloud_neg = WordCloud(width=800, height=400, background_color='white').generate(neg_reviews)\n",
    "\n",
    "plt.figure(figsize=(10, 4))\n",
    "plt.imshow(wordcloud_pos, interpolation='bilinear')\n",
    "plt.axis('off')\n",
    "plt.title(\"Positive Reviews Word Cloud\")\n",
    "plt.show()\n",
    "\n",
    "plt.figure(figsize=(10, 4))\n",
    "plt.imshow(wordcloud_neg, interpolation='bilinear')\n",
    "plt.axis('off')\n",
    "plt.title(\"Negative Reviews Word Cloud\")\n",
    "plt.show()"
   ]
  },
  {
   "cell_type": "markdown",
   "id": "acb0a156",
   "metadata": {},
   "source": [
    "### 💡 Insights\n",
    "\n",
    "- Words like “glowing”, “smooth”, and “love” dominate positive reviews.\n",
    "- Negative reviews contain words like “dry”, “itchy”, and “disappointed”.\n",
    "- Useful for product teams to understand customer sentiment.\n",
    "\n"
   ]
  }
 ],
 "metadata": {},
 "nbformat": 4,
 "nbformat_minor": 5
}
